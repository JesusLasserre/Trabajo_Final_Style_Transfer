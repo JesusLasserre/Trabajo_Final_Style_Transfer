{
 "cells": [
  {
   "cell_type": "markdown",
   "metadata": {
    "id": "qCY6UbkkI9_N"
   },
   "source": [
    "# Style Transfer\n",
    "\n",
    "<img src=\"https://i0.wp.com/chelseatroy.com/wp-content/uploads/2018/12/neural_style_transfer.png?resize=768%2C311&ssl=1\">\n",
    "\n",
    "La idea de este trabajo final es reproducir el siguiente paper:\n",
    "\n",
    "https://arxiv.org/pdf/1508.06576.pdf\n",
    "\n",
    "El objetivo es transferir el estilo de una imagen dada a otra imagen distinta. \n",
    "\n",
    "Como hemos visto en clase, las primeras capas de una red convolucional se activan ante la presencia de ciertos patrones vinculados a detalles muy pequeños.\n",
    "\n",
    "A medida que avanzamos en las distintas capas de una red neuronal convolucional, los filtros se van activando a medida que detectan patrones de formas cada vez mas complejos.\n",
    "\n",
    "Lo que propone este paper es asignarle a la activación de las primeras capas de una red neuronal convolucional (por ejemplo VGG19) la definición del estilo y a la activación de las últimas capas de la red neuronal convolucional, la definición del contenido.\n",
    "\n",
    "La idea de este paper es, a partir de dos imágenes (una que aporte el estilo y otra que aporte el contenido) analizar cómo es la activación de las primeras capas para la imagen que aporta el estilo y cómo es la activación de las últimas capas de la red convolucional para la imagen que aporta el contenido. A partir de esto se intentará sintetizar una imagen que active los filtros de las primeras capas que se activaron con la imagen que aporta el estilo y los filtros de las últimas capas que se activaron con la imagen que aporta el contenido.\n",
    "\n",
    "A este procedimiento se lo denomina neural style transfer.\n",
    "\n",
    "# En este trabajo se deberá leer el paper mencionado y en base a ello, entender la implementación que se muestra a continuación y contestar preguntas sobre la misma.\n",
    "\n",
    "# Una metodología posible es hacer una lectura rápida del paper (aunque esto signifique no entender algunos detalles del mismo) y luego ir analizando el código y respondiendo las preguntas. A medida que se planteen las preguntas, volviendo a leer secciones específicas del paper terminará de entender los detalles que pudieran haber quedado pendientes.\n",
    "\n",
    "Lo primero que haremos es cargar dos imágenes, una que aporte el estilo y otra que aporte el contenido. A tal fin utilizaremos imágenes disponibles en la web."
   ]
  },
  {
   "cell_type": "code",
   "execution_count": null,
   "metadata": {
    "colab": {
     "base_uri": "https://localhost:8080/",
     "height": 437
    },
    "id": "kyHsa2t0SxZi",
    "outputId": "e72fcf52-62ed-42f1-f64e-cdb05d049797"
   },
   "outputs": [],
   "source": [
    "## 'Descomentar si la imagen no está descargada en el directorio'\n",
    "\n",
    "# # Imagen para estilo\n",
    "# !wget https://upload.wikimedia.org/wikipedia/commons/5/52/La_noche_estrellada1.jpg\n",
    "\n",
    "# # Imagen para contenido\n",
    "# !wget https://upload.wikimedia.org/wikipedia/commons/thumb/f/f4/Neckarfront_T%C3%BCbingen_Mai_2017.jpg/775px-Neckarfront_T%C3%BCbingen_Mai_2017.jpg\n",
    "\n",
    "# # Creamos el directorio para los archivos de salida\n",
    "# !mkdir -p /home/jmlasserre/Documents/ITBA_Deep_Learning/TransferLearning/Trabajo-Final-CV/content/output"
   ]
  },
  {
   "cell_type": "code",
   "execution_count": 1,
   "metadata": {
    "colab": {
     "base_uri": "https://localhost:8080/",
     "height": 83
    },
    "id": "NIxH20o2eFoc",
    "outputId": "4785bcbb-4070-4e68-c2b5-4a1dfdccbad2"
   },
   "outputs": [],
   "source": [
    "from keras.preprocessing.image import load_img, save_img, img_to_array\n",
    "import numpy as np\n",
    "from scipy.optimize import fmin_l_bfgs_b\n",
    "import time\n",
    "import argparse\n",
    "import os\n",
    "from keras.applications import vgg19\n",
    "from keras import backend as K\n",
    "from pathlib import Path"
   ]
  },
  {
   "cell_type": "code",
   "execution_count": 2,
   "metadata": {},
   "outputs": [],
   "source": [
    "import tensorflow as tf\n",
    "tf.compat.v1.disable_eager_execution()"
   ]
  },
  {
   "cell_type": "code",
   "execution_count": 3,
   "metadata": {},
   "outputs": [
    {
     "name": "stdout",
     "output_type": "stream",
     "text": [
      "Num GPUs Available:  1\n"
     ]
    }
   ],
   "source": [
    "print(\"Num GPUs Available: \", len(tf.config.list_physical_devices('GPU')))"
   ]
  },
  {
   "cell_type": "code",
   "execution_count": 4,
   "metadata": {},
   "outputs": [],
   "source": [
    "from tensorflow.compat.v1 import ConfigProto\n",
    "from tensorflow.compat.v1 import InteractiveSession\n",
    "\n",
    "tf.device(\"gpu:0\")\n",
    "config = ConfigProto()\n",
    "config.gpu_options.allow_growth = True\n",
    "session = InteractiveSession(config=config)\n"
   ]
  },
  {
   "cell_type": "code",
   "execution_count": 5,
   "metadata": {
    "id": "iLkV1bnFl_tK"
   },
   "outputs": [],
   "source": [
    "# Definimos las imagenes que vamos a utilizar, y el directorio de salida\n",
    "\n",
    "base_image_path = Path(\"775px-Neckarfront_Tübingen_Mai_2017.jpg\")\n",
    "style_reference_image_path = Path(\"La_noche_estrellada1.jpg\")\n",
    "result_prefix = Path(\"outputs_summary/CasoBasePruebaDiferentesPesos\")\n",
    "iterations = 20"
   ]
  },
  {
   "cell_type": "markdown",
   "metadata": {
    "id": "Gz2PeGfpeYzj"
   },
   "source": [
    "# 1) En base a lo visto en el paper ¿Qué significan los parámetros definidos en la siguiente celda?\n",
    "\n",
    "Respuesta: Cada uno de esos parámetros son utilizados para ponderar o pesar los componentes de la función de pérdida o loss\n"
   ]
  },
  {
   "cell_type": "code",
   "execution_count": 6,
   "metadata": {
    "id": "P9Dt3aaEmJWS"
   },
   "outputs": [],
   "source": [
    "total_variation_weight = 1e-6\n",
    "style_weight = 1e-5\n",
    "content_weight = 2.5e-6"
   ]
  },
  {
   "cell_type": "code",
   "execution_count": 7,
   "metadata": {
    "id": "CQQJOhCVuse6"
   },
   "outputs": [],
   "source": [
    "# Definimos el tamaño de las imágenes a utilizar\n",
    "width, height = load_img(base_image_path).size\n",
    "img_nrows = 400\n",
    "img_ncols = int(width * img_nrows / height)"
   ]
  },
  {
   "cell_type": "markdown",
   "metadata": {
    "id": "gg2ct-8agm1E"
   },
   "source": [
    "# 2) Explicar qué hace la siguiente celda. En especial las últimas dos líneas de la función antes del return. ¿Por qué?\n",
    "\n",
    "Ayuda: https://keras.io/applications/\n",
    "\n",
    "Respuesta: Crea una función para cargar las imagenes, hacerles resize, transformarlas en un numpy array, y convertirlas en tensores para que puedan ser procesados correctamente por la NN. Es decir, la función devuelve la representación de la imagen en un tensor. Porque la forma con el que procesan los datos en las NN"
   ]
  },
  {
   "cell_type": "code",
   "execution_count": 8,
   "metadata": {
    "id": "tAkljg4zuzYd"
   },
   "outputs": [],
   "source": [
    "def preprocess_image(image_path):\n",
    "    img = load_img(image_path, target_size=(img_nrows, img_ncols))\n",
    "    img = img_to_array(img)\n",
    "    img = np.expand_dims(img, axis=0)\n",
    "    img = vgg19.preprocess_input(img)\n",
    "    return img"
   ]
  },
  {
   "cell_type": "markdown",
   "metadata": {
    "id": "KTf0YDSagt10"
   },
   "source": [
    "# 3) Habiendo comprendido lo que hace la celda anterior, explique de manera muy concisa qué hace la siguiente celda. ¿Qué relación tiene con la celda anterior?\n",
    "\n",
    "Respuesta: Transforma el tensor en imagen. La relación que tiene con la celda anterior es que es su proceso inverso. O sea, revierte el preprocesamiento de la función anterior. La función en la celda anterior transforma la imagen en tensor, esta función transforma el tensor en imagen. Reconstruye la imagen."
   ]
  },
  {
   "cell_type": "code",
   "execution_count": 9,
   "metadata": {
    "id": "y5LaTrsAu14z"
   },
   "outputs": [],
   "source": [
    "def deprocess_image(x):\n",
    "    x = x.reshape((img_nrows, img_ncols, 3))\n",
    "    # Remove zero-center by mean pixel\n",
    "    x[:, :, 0] += 103.939\n",
    "    x[:, :, 1] += 116.779\n",
    "    x[:, :, 2] += 123.68\n",
    "    # 'BGR'->'RGB'\n",
    "    x = x[:, :, ::-1]\n",
    "    x = np.clip(x, 0, 255).astype('uint8')\n",
    "    return x"
   ]
  },
  {
   "cell_type": "code",
   "execution_count": 10,
   "metadata": {
    "id": "HYNio09mu4S3"
   },
   "outputs": [
    {
     "name": "stdout",
     "output_type": "stream",
     "text": [
      "WARNING:tensorflow:From /home/jmlasserre/anaconda3/envs/SanExpedito/lib/python3.6/site-packages/tensorflow/python/ops/resource_variable_ops.py:1666: calling BaseResourceVariable.__init__ (from tensorflow.python.ops.resource_variable_ops) with constraint is deprecated and will be removed in a future version.\n",
      "Instructions for updating:\n",
      "If using Keras pass *_constraint arguments to layers.\n"
     ]
    }
   ],
   "source": [
    "# get tensor representations of our images\n",
    "# K.variable convierte un numpy array en un tensor, para \n",
    "base_image = K.variable(preprocess_image(base_image_path))\n",
    "style_reference_image = K.variable(preprocess_image(style_reference_image_path))"
   ]
  },
  {
   "cell_type": "code",
   "execution_count": 11,
   "metadata": {
    "colab": {
     "base_uri": "https://localhost:8080/",
     "height": 74
    },
    "id": "a1Lbw02Uu--o",
    "outputId": "6cc926fa-55af-43fa-fe91-3b68c0910502"
   },
   "outputs": [],
   "source": [
    "combination_image = K.placeholder((1, img_nrows, img_ncols, 3))"
   ]
  },
  {
   "cell_type": "markdown",
   "metadata": {
    "id": "RJEi0YI3Uzrm"
   },
   "source": [
    "Aclaración:\n",
    "\n",
    "La siguiente celda sirve para procesar las tres imagenes (contenido, estilo y salida) en un solo batch."
   ]
  },
  {
   "cell_type": "code",
   "execution_count": 12,
   "metadata": {
    "id": "gGO_jGFfvEbF"
   },
   "outputs": [],
   "source": [
    "# combine the 3 images into a single Keras tensor\n",
    "input_tensor = K.concatenate([base_image,\n",
    "                              style_reference_image,\n",
    "                              combination_image], axis=0)"
   ]
  },
  {
   "cell_type": "code",
   "execution_count": 13,
   "metadata": {
    "colab": {
     "base_uri": "https://localhost:8080/",
     "height": 419
    },
    "id": "tdG59VRavHGB",
    "outputId": "a133befb-68d1-4c51-99e6-417c1103f726"
   },
   "outputs": [
    {
     "name": "stdout",
     "output_type": "stream",
     "text": [
      "Model loaded.\n"
     ]
    }
   ],
   "source": [
    "# build the VGG19 network with our 3 images as input\n",
    "# the model will be loaded with pre-trained ImageNet weights\n",
    "model = vgg19.VGG19(input_tensor=input_tensor,\n",
    "                    weights='imagenet', include_top=False)\n",
    "print('Model loaded.')\n",
    "\n",
    "# get the symbolic outputs of each \"key\" layer (we gave them unique names).\n",
    "outputs_dict = dict([(layer.name, layer.output) for layer in model.layers])"
   ]
  },
  {
   "cell_type": "markdown",
   "metadata": {
    "id": "70-vs_jZkKVc"
   },
   "source": [
    "# 4) En la siguientes celdas:\n",
    "\n",
    "- ¿Qué es la matriz de Gram?¿Para qué se usa?\n",
    "\n",
    "La matriz de Gram es el producto punto o producto escalar entre los vectores del mapeo de las features i y j en la misma capa de la CNN. Se usa para mapear las correlaciones encontradas en la matriz original de las features. La distancia media cuadrática entre las entradas de la matriz de Gram de la imagen original y la de la imagen creada se minimiza para generar una textura que concuerde con la imagen utilizada para ese fin. En resumen, se usa en la función de pérdida de estilo (style_loss) para que la imagen generada conserve el estilo de la imagen de referencia del estilo.\n",
    "\n",
    "- ¿Por qué se permutan las dimensiones de x?\n",
    "\n",
    "Es necesario permutar los filtros hacia la primera dimensión para que las matrices queden ordenadas para calcular la matriz de Gram."
   ]
  },
  {
   "cell_type": "code",
   "execution_count": 14,
   "metadata": {
    "id": "K1FODPATvJ1k"
   },
   "outputs": [],
   "source": [
    "def gram_matrix(x):\n",
    "    features = K.batch_flatten(K.permute_dimensions(x, (2, 0, 1)))\n",
    "    gram = K.dot(features, K.transpose(features))\n",
    "    return gram"
   ]
  },
  {
   "cell_type": "markdown",
   "metadata": {
    "id": "vBQkKFY0Rbx-"
   },
   "source": [
    "# 5) Losses:\n",
    "\n",
    "Explicar qué mide cada una de las losses en las siguientes tres celdas.\n",
    "\n",
    "Rta:\n",
    "\n",
    "- style_loss: mide la distancia entre las matrices de Gram con el propósito de minimizarla para manter la referencia de estilo. Busca conservar las correlaciones similares dentro de las diferentes capas con el objetivo de mantener las texturas.  \n",
    "- content_loss: se utiliza para medir la distancia entre la imagen generada y la imagen utilizada como contenido. Al minimizarla, la CNN debería tener un resultado en la imagen generada similar a la imagen de base de contenido. \n",
    "- total_variation_loss: trabaja sobre los pixeles la imagen generada por la combinación.  Se puede pensar como una regularización para intentar evitar una 'pixelización' excesiva de la imagen resultante.\n",
    "- la loss final es la sumata de todas las losses anteriores"
   ]
  },
  {
   "cell_type": "code",
   "execution_count": 15,
   "metadata": {
    "id": "1-Gt0ahWvN6q"
   },
   "outputs": [],
   "source": [
    "def style_loss(style, combination):\n",
    "    assert K.ndim(style) == 3\n",
    "    assert K.ndim(combination) == 3\n",
    "    S = gram_matrix(style)\n",
    "    C = gram_matrix(combination)\n",
    "    channels = 3\n",
    "    size = img_nrows * img_ncols\n",
    "    return K.sum(K.square(S - C)) / (4.0 * (channels ** 2) * (size ** 2))"
   ]
  },
  {
   "cell_type": "code",
   "execution_count": 16,
   "metadata": {
    "id": "XCqnju5RvQCo"
   },
   "outputs": [],
   "source": [
    "def content_loss(base, combination):\n",
    "    return K.sum(K.square(combination - base))\n"
   ]
  },
  {
   "cell_type": "code",
   "execution_count": 17,
   "metadata": {
    "id": "udEp5h31vRnY"
   },
   "outputs": [],
   "source": [
    "def total_variation_loss(x):\n",
    "    assert K.ndim(x) == 4\n",
    "    a = K.square(\n",
    "        x[:, :img_nrows - 1, :img_ncols - 1, :] - x[:, 1:, :img_ncols - 1, :])\n",
    "    b = K.square(\n",
    "        x[:, :img_nrows - 1, :img_ncols - 1, :] - x[:, :img_nrows - 1, 1:, :])\n",
    "    return K.sum(K.pow(a + b, 1.25))\n"
   ]
  },
  {
   "cell_type": "code",
   "execution_count": 18,
   "metadata": {
    "id": "-65vcinbvTZ0"
   },
   "outputs": [],
   "source": [
    "# Armamos la loss total\n",
    "loss = K.variable(0.0)\n",
    "layer_features = outputs_dict['block5_conv2']\n",
    "base_image_features = layer_features[0, :, :, :]\n",
    "combination_features = layer_features[2, :, :, :]\n",
    "loss = loss + content_weight * content_loss(base_image_features,\n",
    "                                            combination_features)\n",
    "\n",
    "feature_layers = ['block1_conv1', 'block2_conv1',\n",
    "                  'block3_conv1', 'block4_conv1',\n",
    "                  'block5_conv1']\n",
    "for layer_name in feature_layers:\n",
    "    layer_features = outputs_dict[layer_name]\n",
    "    style_reference_features = layer_features[1, :, :, :] \n",
    "    combination_features = layer_features[2, :, :, :]\n",
    "    sl = style_loss(style_reference_features, combination_features)\n",
    "    loss = loss + (style_weight / len(feature_layers)) * sl\n",
    "loss = loss + total_variation_weight * total_variation_loss(combination_image)"
   ]
  },
  {
   "cell_type": "code",
   "execution_count": 19,
   "metadata": {
    "colab": {
     "base_uri": "https://localhost:8080/",
     "height": 92
    },
    "id": "pbz4n1OhvV2K",
    "outputId": "c2b208c6-7ddd-4a40-eeda-525f0809b963"
   },
   "outputs": [],
   "source": [
    "grads = K.gradients(loss, combination_image)\n",
    "\n",
    "outputs = [loss]\n",
    "if isinstance(grads, (list, tuple)):\n",
    "    outputs += grads\n",
    "else:\n",
    "    outputs.append(grads)\n",
    "\n",
    "f_outputs = K.function([combination_image], outputs)"
   ]
  },
  {
   "cell_type": "markdown",
   "metadata": {
    "id": "1JbydbOaVcvU"
   },
   "source": [
    "# 6) Explique el propósito de las siguientes tres celdas. ¿Qué hace la función fmin_l_bfgs_b? ¿En qué se diferencia con la implementación del paper? ¿Se puede utilizar alguna alternativa?\n",
    "\n",
    "Respuesta: El propósito es llevar a cabo del proceso de descenso por gradiente utlizando la función de pérdida y la función que calcula los gradientes, ambos valores son computados en el mismo paso. fmin_l_bfgs_b minimiza la pérdida de estilo de la imagen generada en cada iteración. Se podría haber implementado utilizando Adam o RMSprop.   "
   ]
  },
  {
   "cell_type": "code",
   "execution_count": 20,
   "metadata": {
    "id": "zVE1_qemvZeN"
   },
   "outputs": [],
   "source": [
    "def eval_loss_and_grads(x):\n",
    "    x = x.reshape((1, img_nrows, img_ncols, 3))\n",
    "    outs = f_outputs([x])\n",
    "    loss_value = outs[0]\n",
    "    if len(outs[1:]) == 1:\n",
    "        grad_values = outs[1].flatten().astype('float64')\n",
    "    else:\n",
    "        grad_values = np.array(outs[1:]).flatten().astype('float64')\n",
    "    return loss_value, grad_values\n",
    "\n",
    "# this Evaluator class makes it possible\n",
    "# to compute loss and gradients in one pass\n",
    "# while retrieving them via two separate functions,\n",
    "# \"loss\" and \"grads\". This is done because scipy.optimize\n",
    "# requires separate functions for loss and gradients,\n",
    "# but computing them separately would be inefficient."
   ]
  },
  {
   "cell_type": "code",
   "execution_count": 21,
   "metadata": {
    "id": "Qbl9roIgvdb1"
   },
   "outputs": [],
   "source": [
    "class Evaluator(object):\n",
    "\n",
    "    def __init__(self):\n",
    "        self.loss_value = None\n",
    "        self.grads_values = None\n",
    "\n",
    "    def loss(self, x):\n",
    "        assert self.loss_value is None\n",
    "        loss_value, grad_values = eval_loss_and_grads(x)\n",
    "        self.loss_value = loss_value\n",
    "        self.grad_values = grad_values\n",
    "        return self.loss_value\n",
    "\n",
    "    def grads(self, x):\n",
    "        assert self.loss_value is not None\n",
    "        grad_values = np.copy(self.grad_values)\n",
    "        self.loss_value = None\n",
    "        self.grad_values = None\n",
    "        return grad_values"
   ]
  },
  {
   "cell_type": "markdown",
   "metadata": {
    "id": "Sb0yOEl-WOE6"
   },
   "source": [
    "# 7) Ejecute la siguiente celda y observe las imágenes de salida en cada iteración."
   ]
  },
  {
   "cell_type": "code",
   "execution_count": null,
   "metadata": {
    "colab": {
     "base_uri": "https://localhost:8080/",
     "height": 1000
    },
    "id": "n31YBwCVvhAI",
    "outputId": "4c1bf03c-9d66-48ea-93f2-4489fc20beaa",
    "tags": []
   },
   "outputs": [],
   "source": [
    "evaluator = Evaluator()\n",
    "\n",
    "# run scipy-based optimization (L-BFGS) over the pixels of the generated image\n",
    "# so as to minimize the neural style loss\n",
    "x = preprocess_image(base_image_path)\n",
    "\n",
    "\n",
    "\n",
    "for i in range(iterations):\n",
    "    print('Start of iteration', i)\n",
    "    start_time = time.time()\n",
    "    x, min_val, info = fmin_l_bfgs_b(evaluator.loss, x.flatten(),\n",
    "                                     fprime=evaluator.grads, maxfun=20)\n",
    "    print('Current loss value:', min_val)\n",
    "    # save current generated image\n",
    "    img = deprocess_image(x.copy())\n",
    "    fname = result_prefix / ('output_at_iteration_%d.png' % i)\n",
    "    save_img(fname, img)\n",
    "    end_time = time.time()\n",
    "    print('Image saved as', fname)\n",
    "    print('Iteration %d completed in %ds' % (i, end_time - start_time))"
   ]
  },
  {
   "cell_type": "markdown",
   "metadata": {
    "id": "SkiJtofbWWy1",
    "tags": []
   },
   "source": [
    "# 8) Generar imágenes para distintas combinaciones de pesos de las losses. Explicar las diferencias. (Adjuntar las imágenes generadas como archivos separados.)\n"
   ]
  },
  {
   "cell_type": "code",
   "execution_count": 26,
   "metadata": {},
   "outputs": [
    {
     "name": "stdout",
     "output_type": "stream",
     "text": [
      "Starting\n",
      "Last iteration: total_variation_weight: 0, style_weight: 0.001, content_weight: 0.0001\n",
      "Image saved as outputs_summary/CasoBasePruebaDiferentesPesos/0_0.001_0.0001/output_at_iteration_19.png\n",
      "Iteration 19 completed in 1658090701s\n",
      "Starting\n",
      "Last iteration: total_variation_weight: 0, style_weight: 0.001, content_weight: 0.025\n",
      "Image saved as outputs_summary/CasoBasePruebaDiferentesPesos/0_0.001_0.025/output_at_iteration_19.png\n",
      "Iteration 19 completed in 1658090852s\n",
      "Starting\n",
      "Last iteration: total_variation_weight: 0, style_weight: 0.001, content_weight: 0.5\n",
      "Image saved as outputs_summary/CasoBasePruebaDiferentesPesos/0_0.001_0.5/output_at_iteration_19.png\n",
      "Iteration 19 completed in 1658091002s\n",
      "Starting\n",
      "Last iteration: total_variation_weight: 0, style_weight: 0.001, content_weight: 1\n",
      "Image saved as outputs_summary/CasoBasePruebaDiferentesPesos/0_0.001_1/output_at_iteration_19.png\n",
      "Iteration 19 completed in 1658091152s\n",
      "Starting\n",
      "Last iteration: total_variation_weight: 0, style_weight: 0.25, content_weight: 0.0001\n",
      "Image saved as outputs_summary/CasoBasePruebaDiferentesPesos/0_0.25_0.0001/output_at_iteration_19.png\n",
      "Iteration 19 completed in 1658091302s\n",
      "Starting\n",
      "Last iteration: total_variation_weight: 0, style_weight: 0.25, content_weight: 0.025\n",
      "Image saved as outputs_summary/CasoBasePruebaDiferentesPesos/0_0.25_0.025/output_at_iteration_19.png\n",
      "Iteration 19 completed in 1658091453s\n",
      "Starting\n",
      "Last iteration: total_variation_weight: 0, style_weight: 0.25, content_weight: 0.5\n",
      "Image saved as outputs_summary/CasoBasePruebaDiferentesPesos/0_0.25_0.5/output_at_iteration_19.png\n",
      "Iteration 19 completed in 1658091602s\n",
      "Starting\n",
      "Last iteration: total_variation_weight: 0, style_weight: 0.25, content_weight: 1\n",
      "Image saved as outputs_summary/CasoBasePruebaDiferentesPesos/0_0.25_1/output_at_iteration_19.png\n",
      "Iteration 19 completed in 1658091753s\n",
      "Starting\n",
      "Last iteration: total_variation_weight: 0, style_weight: 0.5, content_weight: 0.0001\n",
      "Image saved as outputs_summary/CasoBasePruebaDiferentesPesos/0_0.5_0.0001/output_at_iteration_19.png\n",
      "Iteration 19 completed in 1658091902s\n",
      "Starting\n",
      "Last iteration: total_variation_weight: 0, style_weight: 0.5, content_weight: 0.025\n",
      "Image saved as outputs_summary/CasoBasePruebaDiferentesPesos/0_0.5_0.025/output_at_iteration_19.png\n",
      "Iteration 19 completed in 1658092053s\n",
      "Starting\n",
      "Last iteration: total_variation_weight: 0, style_weight: 0.5, content_weight: 0.5\n",
      "Image saved as outputs_summary/CasoBasePruebaDiferentesPesos/0_0.5_0.5/output_at_iteration_19.png\n",
      "Iteration 19 completed in 1658092203s\n",
      "Starting\n",
      "Last iteration: total_variation_weight: 0, style_weight: 0.5, content_weight: 1\n",
      "Image saved as outputs_summary/CasoBasePruebaDiferentesPesos/0_0.5_1/output_at_iteration_19.png\n",
      "Iteration 19 completed in 1658092353s\n",
      "Starting\n",
      "Last iteration: total_variation_weight: 0, style_weight: 1, content_weight: 0.0001\n",
      "Image saved as outputs_summary/CasoBasePruebaDiferentesPesos/0_1_0.0001/output_at_iteration_19.png\n",
      "Iteration 19 completed in 1658092503s\n",
      "Starting\n",
      "Last iteration: total_variation_weight: 0, style_weight: 1, content_weight: 0.025\n",
      "Image saved as outputs_summary/CasoBasePruebaDiferentesPesos/0_1_0.025/output_at_iteration_19.png\n",
      "Iteration 19 completed in 1658092653s\n",
      "Starting\n",
      "Last iteration: total_variation_weight: 0, style_weight: 1, content_weight: 0.5\n",
      "Image saved as outputs_summary/CasoBasePruebaDiferentesPesos/0_1_0.5/output_at_iteration_19.png\n",
      "Iteration 19 completed in 1658092803s\n",
      "Starting\n",
      "Last iteration: total_variation_weight: 0, style_weight: 1, content_weight: 1\n",
      "Image saved as outputs_summary/CasoBasePruebaDiferentesPesos/0_1_1/output_at_iteration_19.png\n",
      "Iteration 19 completed in 1658092953s\n",
      "Starting\n",
      "Last iteration: total_variation_weight: 0, style_weight: 2, content_weight: 0.0001\n",
      "Image saved as outputs_summary/CasoBasePruebaDiferentesPesos/0_2_0.0001/output_at_iteration_19.png\n",
      "Iteration 19 completed in 1658093104s\n",
      "Starting\n",
      "Last iteration: total_variation_weight: 0, style_weight: 2, content_weight: 0.025\n",
      "Image saved as outputs_summary/CasoBasePruebaDiferentesPesos/0_2_0.025/output_at_iteration_19.png\n",
      "Iteration 19 completed in 1658093255s\n",
      "Starting\n",
      "Last iteration: total_variation_weight: 0, style_weight: 2, content_weight: 0.5\n",
      "Image saved as outputs_summary/CasoBasePruebaDiferentesPesos/0_2_0.5/output_at_iteration_19.png\n",
      "Iteration 19 completed in 1658093404s\n",
      "Starting\n",
      "Last iteration: total_variation_weight: 0, style_weight: 2, content_weight: 1\n",
      "Image saved as outputs_summary/CasoBasePruebaDiferentesPesos/0_2_1/output_at_iteration_19.png\n",
      "Iteration 19 completed in 1658093554s\n",
      "Starting\n",
      "Last iteration: total_variation_weight: 0.001, style_weight: 0.001, content_weight: 0.0001\n",
      "Image saved as outputs_summary/CasoBasePruebaDiferentesPesos/0.001_0.001_0.0001/output_at_iteration_19.png\n",
      "Iteration 19 completed in 1658093705s\n",
      "Starting\n",
      "Last iteration: total_variation_weight: 0.001, style_weight: 0.001, content_weight: 0.025\n",
      "Image saved as outputs_summary/CasoBasePruebaDiferentesPesos/0.001_0.001_0.025/output_at_iteration_19.png\n",
      "Iteration 19 completed in 1658093855s\n",
      "Starting\n",
      "Last iteration: total_variation_weight: 0.001, style_weight: 0.001, content_weight: 0.5\n",
      "Image saved as outputs_summary/CasoBasePruebaDiferentesPesos/0.001_0.001_0.5/output_at_iteration_19.png\n",
      "Iteration 19 completed in 1658094005s\n",
      "Starting\n",
      "Last iteration: total_variation_weight: 0.001, style_weight: 0.001, content_weight: 1\n",
      "Image saved as outputs_summary/CasoBasePruebaDiferentesPesos/0.001_0.001_1/output_at_iteration_19.png\n",
      "Iteration 19 completed in 1658094157s\n",
      "Starting\n",
      "Last iteration: total_variation_weight: 0.001, style_weight: 0.25, content_weight: 0.0001\n",
      "Image saved as outputs_summary/CasoBasePruebaDiferentesPesos/0.001_0.25_0.0001/output_at_iteration_19.png\n",
      "Iteration 19 completed in 1658094308s\n",
      "Starting\n",
      "Last iteration: total_variation_weight: 0.001, style_weight: 0.25, content_weight: 0.025\n",
      "Image saved as outputs_summary/CasoBasePruebaDiferentesPesos/0.001_0.25_0.025/output_at_iteration_19.png\n",
      "Iteration 19 completed in 1658094459s\n",
      "Starting\n",
      "Last iteration: total_variation_weight: 0.001, style_weight: 0.25, content_weight: 0.5\n",
      "Image saved as outputs_summary/CasoBasePruebaDiferentesPesos/0.001_0.25_0.5/output_at_iteration_19.png\n",
      "Iteration 19 completed in 1658094609s\n",
      "Starting\n",
      "Last iteration: total_variation_weight: 0.001, style_weight: 0.25, content_weight: 1\n",
      "Image saved as outputs_summary/CasoBasePruebaDiferentesPesos/0.001_0.25_1/output_at_iteration_19.png\n",
      "Iteration 19 completed in 1658094759s\n",
      "Starting\n",
      "Last iteration: total_variation_weight: 0.001, style_weight: 0.5, content_weight: 0.0001\n",
      "Image saved as outputs_summary/CasoBasePruebaDiferentesPesos/0.001_0.5_0.0001/output_at_iteration_19.png\n",
      "Iteration 19 completed in 1658094909s\n",
      "Starting\n",
      "Last iteration: total_variation_weight: 0.001, style_weight: 0.5, content_weight: 0.025\n",
      "Image saved as outputs_summary/CasoBasePruebaDiferentesPesos/0.001_0.5_0.025/output_at_iteration_19.png\n",
      "Iteration 19 completed in 1658095059s\n",
      "Starting\n",
      "Last iteration: total_variation_weight: 0.001, style_weight: 0.5, content_weight: 0.5\n",
      "Image saved as outputs_summary/CasoBasePruebaDiferentesPesos/0.001_0.5_0.5/output_at_iteration_19.png\n",
      "Iteration 19 completed in 1658095209s\n",
      "Starting\n",
      "Last iteration: total_variation_weight: 0.001, style_weight: 0.5, content_weight: 1\n",
      "Image saved as outputs_summary/CasoBasePruebaDiferentesPesos/0.001_0.5_1/output_at_iteration_19.png\n",
      "Iteration 19 completed in 1658095359s\n",
      "Starting\n",
      "Last iteration: total_variation_weight: 0.001, style_weight: 1, content_weight: 0.0001\n",
      "Image saved as outputs_summary/CasoBasePruebaDiferentesPesos/0.001_1_0.0001/output_at_iteration_19.png\n",
      "Iteration 19 completed in 1658095509s\n",
      "Starting\n",
      "Last iteration: total_variation_weight: 0.001, style_weight: 1, content_weight: 0.025\n",
      "Image saved as outputs_summary/CasoBasePruebaDiferentesPesos/0.001_1_0.025/output_at_iteration_19.png\n",
      "Iteration 19 completed in 1658095660s\n",
      "Starting\n",
      "Last iteration: total_variation_weight: 0.001, style_weight: 1, content_weight: 0.5\n",
      "Image saved as outputs_summary/CasoBasePruebaDiferentesPesos/0.001_1_0.5/output_at_iteration_19.png\n",
      "Iteration 19 completed in 1658095810s\n",
      "Starting\n",
      "Last iteration: total_variation_weight: 0.001, style_weight: 1, content_weight: 1\n",
      "Image saved as outputs_summary/CasoBasePruebaDiferentesPesos/0.001_1_1/output_at_iteration_19.png\n",
      "Iteration 19 completed in 1658095961s\n",
      "Starting\n",
      "Last iteration: total_variation_weight: 0.001, style_weight: 2, content_weight: 0.0001\n",
      "Image saved as outputs_summary/CasoBasePruebaDiferentesPesos/0.001_2_0.0001/output_at_iteration_19.png\n",
      "Iteration 19 completed in 1658096111s\n",
      "Starting\n",
      "Last iteration: total_variation_weight: 0.001, style_weight: 2, content_weight: 0.025\n",
      "Image saved as outputs_summary/CasoBasePruebaDiferentesPesos/0.001_2_0.025/output_at_iteration_19.png\n",
      "Iteration 19 completed in 1658096261s\n",
      "Starting\n",
      "Last iteration: total_variation_weight: 0.001, style_weight: 2, content_weight: 0.5\n",
      "Image saved as outputs_summary/CasoBasePruebaDiferentesPesos/0.001_2_0.5/output_at_iteration_19.png\n",
      "Iteration 19 completed in 1658096412s\n",
      "Starting\n",
      "Last iteration: total_variation_weight: 0.001, style_weight: 2, content_weight: 1\n",
      "Image saved as outputs_summary/CasoBasePruebaDiferentesPesos/0.001_2_1/output_at_iteration_19.png\n",
      "Iteration 19 completed in 1658096563s\n",
      "Starting\n",
      "Last iteration: total_variation_weight: 0.5, style_weight: 0.001, content_weight: 0.0001\n",
      "Image saved as outputs_summary/CasoBasePruebaDiferentesPesos/0.5_0.001_0.0001/output_at_iteration_19.png\n",
      "Iteration 19 completed in 1658096714s\n",
      "Starting\n",
      "Last iteration: total_variation_weight: 0.5, style_weight: 0.001, content_weight: 0.025\n",
      "Image saved as outputs_summary/CasoBasePruebaDiferentesPesos/0.5_0.001_0.025/output_at_iteration_19.png\n",
      "Iteration 19 completed in 1658096864s\n",
      "Starting\n",
      "Last iteration: total_variation_weight: 0.5, style_weight: 0.001, content_weight: 0.5\n",
      "Image saved as outputs_summary/CasoBasePruebaDiferentesPesos/0.5_0.001_0.5/output_at_iteration_19.png\n",
      "Iteration 19 completed in 1658097015s\n",
      "Starting\n",
      "Last iteration: total_variation_weight: 0.5, style_weight: 0.001, content_weight: 1\n",
      "Image saved as outputs_summary/CasoBasePruebaDiferentesPesos/0.5_0.001_1/output_at_iteration_19.png\n",
      "Iteration 19 completed in 1658097165s\n",
      "Starting\n",
      "Last iteration: total_variation_weight: 0.5, style_weight: 0.25, content_weight: 0.0001\n",
      "Image saved as outputs_summary/CasoBasePruebaDiferentesPesos/0.5_0.25_0.0001/output_at_iteration_19.png\n",
      "Iteration 19 completed in 1658097315s\n",
      "Starting\n",
      "Last iteration: total_variation_weight: 0.5, style_weight: 0.25, content_weight: 0.025\n",
      "Image saved as outputs_summary/CasoBasePruebaDiferentesPesos/0.5_0.25_0.025/output_at_iteration_19.png\n",
      "Iteration 19 completed in 1658097466s\n",
      "Starting\n",
      "Last iteration: total_variation_weight: 0.5, style_weight: 0.25, content_weight: 0.5\n",
      "Image saved as outputs_summary/CasoBasePruebaDiferentesPesos/0.5_0.25_0.5/output_at_iteration_19.png\n",
      "Iteration 19 completed in 1658097616s\n",
      "Starting\n",
      "Last iteration: total_variation_weight: 0.5, style_weight: 0.25, content_weight: 1\n",
      "Image saved as outputs_summary/CasoBasePruebaDiferentesPesos/0.5_0.25_1/output_at_iteration_19.png\n",
      "Iteration 19 completed in 1658097767s\n",
      "Starting\n",
      "Last iteration: total_variation_weight: 0.5, style_weight: 0.5, content_weight: 0.0001\n",
      "Image saved as outputs_summary/CasoBasePruebaDiferentesPesos/0.5_0.5_0.0001/output_at_iteration_19.png\n",
      "Iteration 19 completed in 1658097917s\n",
      "Starting\n",
      "Last iteration: total_variation_weight: 0.5, style_weight: 0.5, content_weight: 0.025\n",
      "Image saved as outputs_summary/CasoBasePruebaDiferentesPesos/0.5_0.5_0.025/output_at_iteration_19.png\n",
      "Iteration 19 completed in 1658098067s\n",
      "Starting\n",
      "Last iteration: total_variation_weight: 0.5, style_weight: 0.5, content_weight: 0.5\n",
      "Image saved as outputs_summary/CasoBasePruebaDiferentesPesos/0.5_0.5_0.5/output_at_iteration_19.png\n",
      "Iteration 19 completed in 1658098218s\n",
      "Starting\n",
      "Last iteration: total_variation_weight: 0.5, style_weight: 0.5, content_weight: 1\n",
      "Image saved as outputs_summary/CasoBasePruebaDiferentesPesos/0.5_0.5_1/output_at_iteration_19.png\n",
      "Iteration 19 completed in 1658098368s\n",
      "Starting\n",
      "Last iteration: total_variation_weight: 0.5, style_weight: 1, content_weight: 0.0001\n",
      "Image saved as outputs_summary/CasoBasePruebaDiferentesPesos/0.5_1_0.0001/output_at_iteration_19.png\n",
      "Iteration 19 completed in 1658098519s\n",
      "Starting\n",
      "Last iteration: total_variation_weight: 0.5, style_weight: 1, content_weight: 0.025\n",
      "Image saved as outputs_summary/CasoBasePruebaDiferentesPesos/0.5_1_0.025/output_at_iteration_19.png\n",
      "Iteration 19 completed in 1658098669s\n",
      "Starting\n",
      "Last iteration: total_variation_weight: 0.5, style_weight: 1, content_weight: 0.5\n",
      "Image saved as outputs_summary/CasoBasePruebaDiferentesPesos/0.5_1_0.5/output_at_iteration_19.png\n",
      "Iteration 19 completed in 1658098819s\n",
      "Starting\n",
      "Last iteration: total_variation_weight: 0.5, style_weight: 1, content_weight: 1\n",
      "Image saved as outputs_summary/CasoBasePruebaDiferentesPesos/0.5_1_1/output_at_iteration_19.png\n",
      "Iteration 19 completed in 1658098970s\n",
      "Starting\n",
      "Last iteration: total_variation_weight: 0.5, style_weight: 2, content_weight: 0.0001\n",
      "Image saved as outputs_summary/CasoBasePruebaDiferentesPesos/0.5_2_0.0001/output_at_iteration_19.png\n",
      "Iteration 19 completed in 1658099120s\n",
      "Starting\n",
      "Last iteration: total_variation_weight: 0.5, style_weight: 2, content_weight: 0.025\n",
      "Image saved as outputs_summary/CasoBasePruebaDiferentesPesos/0.5_2_0.025/output_at_iteration_19.png\n",
      "Iteration 19 completed in 1658099270s\n",
      "Starting\n",
      "Last iteration: total_variation_weight: 0.5, style_weight: 2, content_weight: 0.5\n",
      "Image saved as outputs_summary/CasoBasePruebaDiferentesPesos/0.5_2_0.5/output_at_iteration_19.png\n",
      "Iteration 19 completed in 1658099420s\n",
      "Starting\n",
      "Last iteration: total_variation_weight: 0.5, style_weight: 2, content_weight: 1\n",
      "Image saved as outputs_summary/CasoBasePruebaDiferentesPesos/0.5_2_1/output_at_iteration_19.png\n",
      "Iteration 19 completed in 1658099571s\n"
     ]
    }
   ],
   "source": [
    "loss_options = {'total_variation': [0, 1e-3, 0.5],\n",
    "                'style_weight': [1e-3, 0.25, 0.5, 1, 2],\n",
    "                'content_weight': [1e-4, 0.025, 0.5, 1]}\n",
    "\n",
    "for tot_var in loss_options['total_variation']:\n",
    "    for style_l in loss_options['style_weight']:\n",
    "        for content_l in loss_options['content_weight']:\n",
    "            total_variation_weight = tot_var\n",
    "            style_weight = style_l\n",
    "            content_weight = content_l\n",
    "            iterations = 20\n",
    "            \n",
    "            # Armamos la loss total\n",
    "            loss = K.variable(0.0)\n",
    "            layer_features = outputs_dict['block5_conv2']\n",
    "            base_image_features = layer_features[0, :, :, :]\n",
    "            combination_features = layer_features[2, :, :, :]\n",
    "            loss = loss + content_weight * content_loss(base_image_features,\n",
    "                                                        combination_features)\n",
    "\n",
    "            feature_layers = ['block1_conv1', 'block2_conv1',\n",
    "                              'block3_conv1', 'block4_conv1',\n",
    "                              'block5_conv1']\n",
    "            for layer_name in feature_layers:\n",
    "                layer_features = outputs_dict[layer_name]\n",
    "                style_reference_features = layer_features[1, :, :, :] \n",
    "                combination_features = layer_features[2, :, :, :]\n",
    "                sl = style_loss(style_reference_features, combination_features)\n",
    "                loss = loss + (style_weight / len(feature_layers)) * sl\n",
    "            loss = loss + total_variation_weight * total_variation_loss(combination_image)\n",
    "            \n",
    "            #crear directorio para guardar los nuevos resultados. \n",
    "            post_dir_name = str(total_variation_weight) + '_' + str(style_weight) + '_' + str(content_weight)\n",
    "            dir_name = \"outputs_summary/CasoBasePruebaDiferentesPesos/\" + post_dir_name\n",
    "            os.makedirs(dir_name)\n",
    "            result_prefix = Path(dir_name)\n",
    "            \n",
    "            evaluator = Evaluator()\n",
    "            \n",
    "            x = preprocess_image(base_image_path)\n",
    "\n",
    "            for i in range(iterations):\n",
    "                if i == 0:\n",
    "                    print('Starting')\n",
    "                x, min_val, info = fmin_l_bfgs_b(evaluator.loss, x.flatten(),\n",
    "                                                fprime=evaluator.grads, maxfun=20)\n",
    "                # save current generated image\n",
    "                img = deprocess_image(x.copy())\n",
    "                fname = result_prefix / ('output_at_iteration_%d.png' % i)\n",
    "                save_img(fname, img)\n",
    "                end_time = time.time()\n",
    "                if i == (iterations - 1):\n",
    "                    print(f'Last iteration: total_variation_weight: {total_variation_weight}, style_weight: {style_weight}, content_weight: {content_weight}')\n",
    "                    print('Image saved as', fname)\n",
    "                    print('Iteration %d completed in %ds' % (i, end_time))           "
   ]
  },
  {
   "cell_type": "code",
   "execution_count": null,
   "metadata": {},
   "outputs": [],
   "source": []
  },
  {
   "cell_type": "markdown",
   "metadata": {},
   "source": [
    "# 9) Cambiar las imágenes de contenido y estilo por unas elegidas por usted. Adjuntar el resultado.\n",
    "\n",
    "Respuesta: Dentro de la carpeta outputs_summary hay 7 subcarpetas numeradas con diferentes resultados. \n"
   ]
  },
  {
   "cell_type": "code",
   "execution_count": null,
   "metadata": {},
   "outputs": [],
   "source": []
  }
 ],
 "metadata": {
  "accelerator": "GPU",
  "colab": {
   "name": "Trabajo Final CNN - Style Transfer.ipynb",
   "provenance": [],
   "toc_visible": true
  },
  "kernelspec": {
   "display_name": "Python 3",
   "language": "python",
   "name": "python3"
  },
  "language_info": {
   "codemirror_mode": {
    "name": "ipython",
    "version": 3
   },
   "file_extension": ".py",
   "mimetype": "text/x-python",
   "name": "python",
   "nbconvert_exporter": "python",
   "pygments_lexer": "ipython3",
   "version": "3.6.10"
  }
 },
 "nbformat": 4,
 "nbformat_minor": 4
}
